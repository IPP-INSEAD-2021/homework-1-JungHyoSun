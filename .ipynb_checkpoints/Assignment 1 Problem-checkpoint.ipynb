{
 "cells": [
  {
   "cell_type": "markdown",
   "id": "66b1fb96",
   "metadata": {},
   "source": [
    "## IPP Assignment 1"
   ]
  },
  {
   "cell_type": "markdown",
   "id": "b0c21144",
   "metadata": {},
   "source": [
    "### GRADE (Jung Hyo)\n",
    "\n",
    "**Problem** | *Correctness (5)* | *Clarity (2.5)* | *Efficiency (2.5)*| COMMENT\n",
    "---|---|---|---|---\n",
    "**1** | 5 | 2/2.5 | 2.5| You could've used other basic markdown. Please refer to the answer sheet.\n",
    "**2.1** | 5 | 2.5 | 2.5|\n",
    "**2.2** | 5 | 2.5 | 2.5|\n",
    "**2.3** | 5 | 2.5 | 2.5|\n",
    "**3** | 5 | 2.5 | 2.5| This part is great: if student.split(':')[0] == k and student.split(':')[1] not in s:  \n",
    "**TOTAL SCORE** | **49.5/50**"
   ]
  },
  {
   "cell_type": "markdown",
   "id": "e49330c1",
   "metadata": {},
   "source": [
    "A Jupyter notebook, a Python interface, mainly consists of two types of cells: Markdown and Code cells. A Code cell is a block of contents that contain snippets of code written in Python Programming Language. A markdown cell is a block of contents that contain text and sometimes image.\n",
    "\n",
    "As you progress, you may realize the importance of markdown cells while programming with python language. Markdown cells allow you to keep track of what you've done in the Code cells by displaying titles or a brief summary of tasks in a text format (You can add headings, emphasis (bold or italic text), mathematical symbols, bullets and horizontal lines etc). This assignment is meant to guide you to become familiar with markdown language.\n",
    "\n"
   ]
  },
  {
   "cell_type": "markdown",
   "id": "c9b813eb",
   "metadata": {},
   "source": [
    "### Problem 1. Using markdown language, write an introduction of yourself. You can use multiple markdown cells to create a neat introduction of yourself.\n"
   ]
  },
  {
   "cell_type": "markdown",
   "id": "5d7b332a",
   "metadata": {},
   "source": [
    "### Hi, my name is\n",
    "# Jung Hyo"
   ]
  },
  {
   "cell_type": "markdown",
   "id": "9cff250d",
   "metadata": {},
   "source": [
    "### Problem 2"
   ]
  },
  {
   "cell_type": "markdown",
   "id": "eb88fec8",
   "metadata": {},
   "source": [
    "For problem 2, use the following list (called i) & dictionary (called d)\n",
    "* Note that i is a list which contains 9 elements.\n",
    "* Note that d is a dictionary which has 9 keys and values."
   ]
  },
  {
   "cell_type": "code",
   "execution_count": 1,
   "id": "89392603",
   "metadata": {},
   "outputs": [
    {
     "name": "stdout",
     "output_type": "stream",
     "text": [
      "['I', 'N', 'S', 'E', 'A', 'D', 'P', 'H', 'D']\n",
      "{0: 'I', 1: 'N', 2: 'S', 3: 'E', 4: 'A', 5: 'D', 6: 'P', 7: 'H', 8: 'D'}\n"
     ]
    }
   ],
   "source": [
    "i=['I','N','S','E','A','D','P','H','D']\n",
    "d={}\n",
    "for count, value in enumerate(i):\n",
    "    d[count]=value\n",
    "    \n",
    "print(i)\n",
    "print(d)"
   ]
  },
  {
   "cell_type": "markdown",
   "id": "6e1965ce",
   "metadata": {},
   "source": [
    "#### Problem 2.1 Write a for loop that prints the first six elements of the list (i), using both 'IF' and 'BREAK' statments within the loop."
   ]
  },
  {
   "cell_type": "code",
   "execution_count": 2,
   "id": "ec3a617b",
   "metadata": {},
   "outputs": [
    {
     "data": {
      "text/plain": [
       "dict_items([(0, 'I'), (1, 'N'), (2, 'S'), (3, 'E'), (4, 'A'), (5, 'D'), (6, 'P'), (7, 'H'), (8, 'D')])"
      ]
     },
     "execution_count": 2,
     "metadata": {},
     "output_type": "execute_result"
    }
   ],
   "source": [
    "d.items()"
   ]
  },
  {
   "cell_type": "code",
   "execution_count": 3,
   "id": "ec407dc8",
   "metadata": {},
   "outputs": [
    {
     "name": "stdout",
     "output_type": "stream",
     "text": [
      "I\n",
      "N\n",
      "S\n",
      "E\n",
      "A\n",
      "D\n"
     ]
    }
   ],
   "source": [
    "# Write a for loop that produces the following output in this cell.\n",
    "\n",
    "##############################################################################################\n",
    "for count, value in d.items():\n",
    "    if count == 6:\n",
    "        break      \n",
    "    print(value)\n",
    "    \n",
    "\n",
    "##############################################################################################"
   ]
  },
  {
   "cell_type": "markdown",
   "id": "4a1ce6ca",
   "metadata": {},
   "source": [
    "#### Problem 2.2 Write a for loop that prints all the elements except 'D' in the list (i) using if and continue statement within the loop."
   ]
  },
  {
   "cell_type": "code",
   "execution_count": 4,
   "id": "ac9a1a7f",
   "metadata": {},
   "outputs": [
    {
     "name": "stdout",
     "output_type": "stream",
     "text": [
      "I\n",
      "N\n",
      "S\n",
      "E\n",
      "A\n",
      "P\n",
      "H\n"
     ]
    }
   ],
   "source": [
    "# Write a for loop that produces the following output in this cell.\n",
    "##############################################################################################\n",
    "for count, value in d.items():\n",
    "    if value == 'D':\n",
    "        continue     \n",
    "    print(value)\n",
    "##############################################################################################"
   ]
  },
  {
   "cell_type": "markdown",
   "id": "a9198324",
   "metadata": {},
   "source": [
    "#### Problem 2.3 Create an empty list called l. Write a for loop that adds only odd dictionary keys of d in l (l is the emply list that you've created). Then prints l."
   ]
  },
  {
   "cell_type": "code",
   "execution_count": 5,
   "id": "f82cf7bf",
   "metadata": {},
   "outputs": [
    {
     "name": "stdout",
     "output_type": "stream",
     "text": [
      "[1, 3, 5, 7]\n"
     ]
    }
   ],
   "source": [
    "# Write a for loop that produces the following output in this cell.\n",
    "# Start with creating a list called l\n",
    "l=[]\n",
    "##############################################################################################\n",
    "for k in d:\n",
    "    if k % 2 != 0:\n",
    "        l.append(k)\n",
    "##############################################################################################\n",
    "print(l)"
   ]
  },
  {
   "cell_type": "markdown",
   "id": "140834f3",
   "metadata": {},
   "source": [
    "### Problem 3"
   ]
  },
  {
   "cell_type": "markdown",
   "id": "0a6db7af",
   "metadata": {},
   "source": [
    "For problem 3, use the following two lists, students and departments respectively"
   ]
  },
  {
   "cell_type": "code",
   "execution_count": 6,
   "id": "0ab4ec7b",
   "metadata": {},
   "outputs": [],
   "source": [
    "students=[\"MKT:Sherrie\",\n",
    "          \"OB:Jennifer\",\n",
    "          \"TOM:Priscilla\",\n",
    "          \"STR:Nety\",\n",
    "          \"STR:Tienchang\",\n",
    "          \"ENT:Pulkit\",\n",
    "          \"FIN:Meghana\",\n",
    "          \"STR:Constantin\",\n",
    "          \"ENT:Junghyo\",\n",
    "          \"MKT:Sherrie\",\n",
    "          \"OB:Jennifer\"]\n",
    "\n",
    "departments=[\"MKT\",\"OB\",\"TOM\",\"STR\",\"ENT\",\"FIN\"]"
   ]
  },
  {
   "cell_type": "code",
   "execution_count": 7,
   "id": "f9dbbf6c",
   "metadata": {},
   "outputs": [
    {
     "data": {
      "text/plain": [
       "['MKT:Sherrie',\n",
       " 'OB:Jennifer',\n",
       " 'TOM:Priscilla',\n",
       " 'STR:Nety',\n",
       " 'STR:Tienchang',\n",
       " 'ENT:Pulkit',\n",
       " 'FIN:Meghana',\n",
       " 'STR:Constantin',\n",
       " 'ENT:Junghyo',\n",
       " 'MKT:Sherrie',\n",
       " 'OB:Jennifer']"
      ]
     },
     "execution_count": 7,
     "metadata": {},
     "output_type": "execute_result"
    }
   ],
   "source": [
    "students"
   ]
  },
  {
   "cell_type": "markdown",
   "id": "ad61d0d4",
   "metadata": {},
   "source": [
    "#### Problem 3. Create an empty dictionary called d. Write a for loop that adds each department in departments (given list) as keys and the list of students in that department as values."
   ]
  },
  {
   "cell_type": "code",
   "execution_count": 8,
   "id": "c54eb5a7",
   "metadata": {},
   "outputs": [],
   "source": [
    "d = {department:[] for department in departments}"
   ]
  },
  {
   "cell_type": "code",
   "execution_count": 10,
   "id": "4d9b22a0",
   "metadata": {},
   "outputs": [
    {
     "name": "stdout",
     "output_type": "stream",
     "text": [
      "MKT\n",
      "OB\n",
      "TOM\n",
      "STR\n",
      "ENT\n",
      "FIN\n"
     ]
    }
   ],
   "source": [
    "for k in d:\n",
    "    print(k)"
   ]
  },
  {
   "cell_type": "code",
   "execution_count": 11,
   "id": "039e6b67",
   "metadata": {},
   "outputs": [
    {
     "data": {
      "text/plain": [
       "{'MKT': ['Sherrie'],\n",
       " 'OB': ['Jennifer'],\n",
       " 'TOM': ['Priscilla'],\n",
       " 'STR': ['Nety', 'Tienchang', 'Constantin'],\n",
       " 'ENT': ['Pulkit', 'Junghyo'],\n",
       " 'FIN': ['Meghana']}"
      ]
     },
     "execution_count": 11,
     "metadata": {},
     "output_type": "execute_result"
    }
   ],
   "source": [
    "# Write a for loop that produces the following output in this cell, using the given lists (students & departments)\n",
    "# Start with creating a dictonary called d\n",
    "d = {}\n",
    "##############################################################################################\n",
    "\n",
    "d = {department:[] for department in departments}\n",
    "\n",
    "for k in d:\n",
    "    s = []\n",
    "    for student in students:\n",
    "        if student.split(':')[0] == k and student.split(':')[1] not in s:            \n",
    "            s.append(student.split(':')[1])\n",
    "            d[k] = s\n",
    "        \n",
    "        \n",
    "##############################################################################################\n",
    "d"
   ]
  },
  {
   "cell_type": "code",
   "execution_count": null,
   "id": "0332b8e9",
   "metadata": {},
   "outputs": [],
   "source": []
  }
 ],
 "metadata": {
  "kernelspec": {
   "display_name": "Python 3",
   "language": "python",
   "name": "python3"
  },
  "language_info": {
   "codemirror_mode": {
    "name": "ipython",
    "version": 3
   },
   "file_extension": ".py",
   "mimetype": "text/x-python",
   "name": "python",
   "nbconvert_exporter": "python",
   "pygments_lexer": "ipython3",
   "version": "3.8.8"
  }
 },
 "nbformat": 4,
 "nbformat_minor": 5
}
